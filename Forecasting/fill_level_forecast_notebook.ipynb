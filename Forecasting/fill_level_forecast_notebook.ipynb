{
 "cells": [
  {
   "cell_type": "markdown",
   "id": "6765b41e",
   "metadata": {},
   "source": [
    "# 📈 Forecast Fill Level with Prophet\n",
    "This notebook reads sensor data from S3, trains a time-series model using Facebook Prophet, and uploads 24-hour forecasts back to S3."
   ]
  },
  {
   "cell_type": "code",
   "execution_count": null,
   "id": "24c3df14",
   "metadata": {},
   "outputs": [],
   "source": [
    "\n",
    "# 📦 Install required packages (if needed)\n",
    "!pip install --quiet pandas prophet boto3 s3fs\n"
   ]
  },
  {
   "cell_type": "code",
   "execution_count": null,
   "id": "cc586de8",
   "metadata": {},
   "outputs": [],
   "source": [
    "\n",
    "import pandas as pd\n",
    "from prophet import Prophet\n",
    "import boto3\n",
    "\n",
    "# S3 input path\n",
    "s3_input_path = 's3://co2-plant-processed-data/forecasting/input/forecast_data.csv'\n",
    "\n",
    "# Load CSV directly from S3\n",
    "df = pd.read_csv(s3_input_path)\n",
    "df = df[['timestamp', 'fill_level']].copy()\n",
    "df.columns = ['ds', 'y']\n",
    "df['ds'] = pd.to_datetime(df['ds'])\n",
    "df = df.sort_values('ds')\n",
    "df.head()\n"
   ]
  },
  {
   "cell_type": "code",
   "execution_count": null,
   "id": "1ecbfbb5",
   "metadata": {},
   "outputs": [],
   "source": [
    "\n",
    "# 🔮 Train Prophet model and forecast next 24 hours\n",
    "model = Prophet()\n",
    "model.fit(df)\n",
    "\n",
    "future = model.make_future_dataframe(periods=24, freq='H')\n",
    "forecast = model.predict(future)\n",
    "\n",
    "forecast_result = forecast[['ds', 'yhat']].copy()\n",
    "forecast_result.head()\n"
   ]
  },
  {
   "cell_type": "code",
   "execution_count": null,
   "id": "38bad7c3",
   "metadata": {},
   "outputs": [],
   "source": [
    "\n",
    "# 💾 Save forecast locally\n",
    "output_file = '/tmp/fill_level_forecast.csv'\n",
    "forecast_result.to_csv(output_file, index=False)\n"
   ]
  },
  {
   "cell_type": "code",
   "execution_count": null,
   "id": "dece8c2d",
   "metadata": {},
   "outputs": [],
   "source": [
    "\n",
    "# ☁️ Upload to S3 output folder\n",
    "s3 = boto3.client('s3')\n",
    "s3.upload_file(\n",
    "    Filename=output_file,\n",
    "    Bucket='co2-plant-processed-data',\n",
    "    Key='forecasting/output/fill_level_forecast.csv'\n",
    ")\n",
    "\n",
    "print(\"✅ Forecast uploaded to s3://co2-plant-processed-data/forecasting/output/fill_level_forecast.csv\")\n"
   ]
  }
 ],
 "metadata": {},
 "nbformat": 4,
 "nbformat_minor": 5
}
